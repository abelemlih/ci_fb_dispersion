{
 "cells": [
  {
   "cell_type": "markdown",
   "metadata": {},
   "source": [
    "### Goal\n",
    "\n",
    "As we have learned, measuring network dispersion between two individuals is a decent way of identifying whether a romantic relationship may be present. In this activity we aim to teach you how to calculate this dispersion value. \n",
    "\n",
    "Furthermore, you will apply this measurement to a close friend within your Facebook friends in an attempt to \"guess\" who their romantic partner may be. "
   ]
  },
  {
   "cell_type": "code",
   "execution_count": 3,
   "metadata": {
    "collapsed": true
   },
   "outputs": [],
   "source": [
    "import json\n",
    "from collections import deque"
   ]
  },
  {
   "cell_type": "markdown",
   "metadata": {},
   "source": [
    "### Collect Data\n",
    "\n",
    "To get started, collect your own data from https://lostcircles.com/. Download JSON(no pics) after up finish loading your network. Run the following function to get an adjacency list. One thing about the json file is that some edges only have one directions recorded but we should add both directions to the adj list.\n",
    "\n",
    "We have included the code for generating your personal adjacency list down below. Simply fill in your own file path once you get that, and then run the cell to fill the \"adj_list\" variable."
   ]
  },
  {
   "cell_type": "code",
   "execution_count": 20,
   "metadata": {},
   "outputs": [
    {
     "ename": "UnicodeDecodeError",
     "evalue": "'charmap' codec can't decode byte 0x81 in position 12415: character maps to <undefined>",
     "output_type": "error",
     "traceback": [
      "\u001b[1;31m---------------------------------------------------------------------------\u001b[0m",
      "\u001b[1;31mUnicodeDecodeError\u001b[0m                        Traceback (most recent call last)",
      "\u001b[1;32m<ipython-input-20-65d9783bfc56>\u001b[0m in \u001b[0;36m<module>\u001b[1;34m()\u001b[0m\n\u001b[0;32m     24\u001b[0m     \u001b[1;32mreturn\u001b[0m \u001b[0madj_list\u001b[0m\u001b[1;33m,\u001b[0m \u001b[0mnodes\u001b[0m\u001b[1;33m\u001b[0m\u001b[0m\n\u001b[0;32m     25\u001b[0m \u001b[1;33m\u001b[0m\u001b[0m\n\u001b[1;32m---> 26\u001b[1;33m \u001b[0madj_list\u001b[0m\u001b[1;33m,\u001b[0m \u001b[0mnodes\u001b[0m \u001b[1;33m=\u001b[0m \u001b[0mprocess_json\u001b[0m\u001b[1;33m(\u001b[0m\u001b[0mpath\u001b[0m\u001b[1;33m)\u001b[0m\u001b[1;33m\u001b[0m\u001b[0m\n\u001b[0m\u001b[0;32m     27\u001b[0m \u001b[0mprint\u001b[0m\u001b[1;33m(\u001b[0m\u001b[0madj_list\u001b[0m\u001b[1;33m)\u001b[0m\u001b[1;33m\u001b[0m\u001b[0m\n",
      "\u001b[1;32m<ipython-input-20-65d9783bfc56>\u001b[0m in \u001b[0;36mprocess_json\u001b[1;34m(path)\u001b[0m\n\u001b[0;32m      3\u001b[0m \u001b[1;33m\u001b[0m\u001b[0m\n\u001b[0;32m      4\u001b[0m \u001b[1;32mdef\u001b[0m \u001b[0mprocess_json\u001b[0m\u001b[1;33m(\u001b[0m\u001b[0mpath\u001b[0m\u001b[1;33m)\u001b[0m\u001b[1;33m:\u001b[0m \u001b[1;31m# Parse the json file into adjacency list and node list\u001b[0m\u001b[1;33m\u001b[0m\u001b[0m\n\u001b[1;32m----> 5\u001b[1;33m     \u001b[0mdata\u001b[0m \u001b[1;33m=\u001b[0m \u001b[0mjson\u001b[0m\u001b[1;33m.\u001b[0m\u001b[0mload\u001b[0m\u001b[1;33m(\u001b[0m\u001b[0mopen\u001b[0m\u001b[1;33m(\u001b[0m\u001b[0mpath\u001b[0m\u001b[1;33m)\u001b[0m\u001b[1;33m)\u001b[0m\u001b[1;33m\u001b[0m\u001b[0m\n\u001b[0m\u001b[0;32m      6\u001b[0m     \u001b[0mlinks\u001b[0m \u001b[1;33m=\u001b[0m \u001b[0mdata\u001b[0m\u001b[1;33m[\u001b[0m\u001b[1;34m\"links\"\u001b[0m\u001b[1;33m]\u001b[0m\u001b[1;33m\u001b[0m\u001b[0m\n\u001b[0;32m      7\u001b[0m     \u001b[0mnodes\u001b[0m \u001b[1;33m=\u001b[0m \u001b[0mdata\u001b[0m\u001b[1;33m[\u001b[0m\u001b[1;34m\"nodes\"\u001b[0m\u001b[1;33m]\u001b[0m\u001b[1;33m\u001b[0m\u001b[0m\n",
      "\u001b[1;32m~\\Anaconda3\\lib\\json\\__init__.py\u001b[0m in \u001b[0;36mload\u001b[1;34m(fp, cls, object_hook, parse_float, parse_int, parse_constant, object_pairs_hook, **kw)\u001b[0m\n\u001b[0;32m    294\u001b[0m \u001b[1;33m\u001b[0m\u001b[0m\n\u001b[0;32m    295\u001b[0m     \"\"\"\n\u001b[1;32m--> 296\u001b[1;33m     return loads(fp.read(),\n\u001b[0m\u001b[0;32m    297\u001b[0m         \u001b[0mcls\u001b[0m\u001b[1;33m=\u001b[0m\u001b[0mcls\u001b[0m\u001b[1;33m,\u001b[0m \u001b[0mobject_hook\u001b[0m\u001b[1;33m=\u001b[0m\u001b[0mobject_hook\u001b[0m\u001b[1;33m,\u001b[0m\u001b[1;33m\u001b[0m\u001b[0m\n\u001b[0;32m    298\u001b[0m         \u001b[0mparse_float\u001b[0m\u001b[1;33m=\u001b[0m\u001b[0mparse_float\u001b[0m\u001b[1;33m,\u001b[0m \u001b[0mparse_int\u001b[0m\u001b[1;33m=\u001b[0m\u001b[0mparse_int\u001b[0m\u001b[1;33m,\u001b[0m\u001b[1;33m\u001b[0m\u001b[0m\n",
      "\u001b[1;32m~\\Anaconda3\\lib\\encodings\\cp1252.py\u001b[0m in \u001b[0;36mdecode\u001b[1;34m(self, input, final)\u001b[0m\n\u001b[0;32m     21\u001b[0m \u001b[1;32mclass\u001b[0m \u001b[0mIncrementalDecoder\u001b[0m\u001b[1;33m(\u001b[0m\u001b[0mcodecs\u001b[0m\u001b[1;33m.\u001b[0m\u001b[0mIncrementalDecoder\u001b[0m\u001b[1;33m)\u001b[0m\u001b[1;33m:\u001b[0m\u001b[1;33m\u001b[0m\u001b[0m\n\u001b[0;32m     22\u001b[0m     \u001b[1;32mdef\u001b[0m \u001b[0mdecode\u001b[0m\u001b[1;33m(\u001b[0m\u001b[0mself\u001b[0m\u001b[1;33m,\u001b[0m \u001b[0minput\u001b[0m\u001b[1;33m,\u001b[0m \u001b[0mfinal\u001b[0m\u001b[1;33m=\u001b[0m\u001b[1;32mFalse\u001b[0m\u001b[1;33m)\u001b[0m\u001b[1;33m:\u001b[0m\u001b[1;33m\u001b[0m\u001b[0m\n\u001b[1;32m---> 23\u001b[1;33m         \u001b[1;32mreturn\u001b[0m \u001b[0mcodecs\u001b[0m\u001b[1;33m.\u001b[0m\u001b[0mcharmap_decode\u001b[0m\u001b[1;33m(\u001b[0m\u001b[0minput\u001b[0m\u001b[1;33m,\u001b[0m\u001b[0mself\u001b[0m\u001b[1;33m.\u001b[0m\u001b[0merrors\u001b[0m\u001b[1;33m,\u001b[0m\u001b[0mdecoding_table\u001b[0m\u001b[1;33m)\u001b[0m\u001b[1;33m[\u001b[0m\u001b[1;36m0\u001b[0m\u001b[1;33m]\u001b[0m\u001b[1;33m\u001b[0m\u001b[0m\n\u001b[0m\u001b[0;32m     24\u001b[0m \u001b[1;33m\u001b[0m\u001b[0m\n\u001b[0;32m     25\u001b[0m \u001b[1;32mclass\u001b[0m \u001b[0mStreamWriter\u001b[0m\u001b[1;33m(\u001b[0m\u001b[0mCodec\u001b[0m\u001b[1;33m,\u001b[0m\u001b[0mcodecs\u001b[0m\u001b[1;33m.\u001b[0m\u001b[0mStreamWriter\u001b[0m\u001b[1;33m)\u001b[0m\u001b[1;33m:\u001b[0m\u001b[1;33m\u001b[0m\u001b[0m\n",
      "\u001b[1;31mUnicodeDecodeError\u001b[0m: 'charmap' codec can't decode byte 0x81 in position 12415: character maps to <undefined>"
     ]
    }
   ],
   "source": [
    "# TODO: Replace with your own file path\n",
    "path = 'fb_network.json' \n",
    "\n",
    "def process_json(path): # Parse the json file into adjacency list and node list\n",
    "    data = json.load(open(path,encoding='utf-8'))\n",
    "    links = data[\"links\"]\n",
    "    nodes = data[\"nodes\"]\n",
    "    adj_list = {}\n",
    "    for edge in links:\n",
    "        \n",
    "        if edge[\"source\"] in adj_list:\n",
    "            if edge[\"target\"] not in adj_list[edge[\"source\"]]:\n",
    "                adj_list[edge[\"source\"]].append(edge[\"target\"])\n",
    "        else:\n",
    "            adj_list[edge[\"source\"]] = [edge[\"target\"]]\n",
    "            \n",
    "        \n",
    "        if edge[\"target\"] in adj_list:\n",
    "            if edge[\"source\"] not in adj_list[edge[\"target\"]]:\n",
    "                adj_list[edge[\"target\"]].append(edge[\"source\"])\n",
    "        else:\n",
    "            adj_list[edge[\"target\"]] = [edge[\"source\"]]\n",
    "            \n",
    "    return adj_list, nodes\n",
    "\n",
    "adj_list, nodes = process_json(path)\n",
    "print(adj_list)"
   ]
  },
  {
   "cell_type": "markdown",
   "metadata": {},
   "source": [
    "### Select Two Friends\n",
    "\n",
    "In this section, we are going to calculate the dispersion value between two friends from your Facebook network. For the best results, the two friends you select should have a high amount of mutual friends which you are also mutual friends with. \n",
    "\n",
    "To select these two friends, fill in the name variables below. Make sure to spell their names correctly and exactly as they are shown on Facebook. After that, run the cell. The result will be the two variables fIndex1 and fIndex2 which correspond to the index in the adjacency list of the first friend and the index for the second friend."
   ]
  },
  {
   "cell_type": "code",
   "execution_count": 16,
   "metadata": {
    "collapsed": true
   },
   "outputs": [],
   "source": [
    "# TODO: Choose friend names from facebook\n",
    "friend1 = \"Name of friend 1\" \n",
    "friend2 = \"Name of friend 2\"\n",
    "\n",
    "def getFriendIndex(name):\n",
    "    c = 0\n",
    "    for i in nodes:\n",
    "        if i['name'] == name:\n",
    "            return c\n",
    "        c += 1\n",
    "    \n",
    "fIndex1 = getFriendIndex(friend1) #Index in adjacency list of friend 1\n",
    "fIndex2 = getFriendIndex(friend2) #Index in adjacency list of friend 2"
   ]
  },
  {
   "cell_type": "code",
   "execution_count": 10,
   "metadata": {
    "collapsed": true
   },
   "outputs": [],
   "source": [
    "# Use BFS to check if distance between u and v are within threshold, return 1 when dist > threshold, 0 when <=\n",
    "def distance(threshold, adj_list, u, v): \n",
    "    queue = deque([u]) # Queue data structure\n",
    "    explored = {u} # Set data structure for O(1) lookup\n",
    "    count = 0\n",
    "    while(len(queue) != 0 and count < threshold):\n",
    "        cur_layer = len(queue)\n",
    "        \n",
    "        for i in range(cur_layer):\n",
    "            cur = queue.popleft()\n",
    "            for nei in adj_list[cur]:\n",
    "                if nei == v:\n",
    "                    return 0\n",
    "                if nei not in explored:\n",
    "                    queue.append(nei)\n",
    "                    explored.add(nei)\n",
    "                    \n",
    "        count += 1\n",
    "    return 1"
   ]
  },
  {
   "cell_type": "markdown",
   "metadata": {},
   "source": [
    "### Calculate Dispersion Between Two People\n",
    "\n",
    "In this section you will calculate dispersion between the two friends you have found. To do this, you will complete two essential algorithms, common neighbor and dispersion. When you are done, test your code on the graph provided. After that you can find the dispersion value between your selected friends."
   ]
  },
  {
   "cell_type": "code",
   "execution_count": 11,
   "metadata": {},
   "outputs": [
    {
     "ename": "IndentationError",
     "evalue": "expected an indented block (<ipython-input-11-fd543edc7b14>, line 11)",
     "output_type": "error",
     "traceback": [
      "\u001b[1;36m  File \u001b[1;32m\"<ipython-input-11-fd543edc7b14>\"\u001b[1;36m, line \u001b[1;32m11\u001b[0m\n\u001b[1;33m    def dispersion(adj_list, node1, node2, threshold = 1, normalized = False): #Calculate the dispersion\u001b[0m\n\u001b[1;37m      ^\u001b[0m\n\u001b[1;31mIndentationError\u001b[0m\u001b[1;31m:\u001b[0m expected an indented block\n"
     ]
    }
   ],
   "source": [
    "# --- Finish this function ---\n",
    "def common_neighbor(adj_list, node1, node2):  #Find the list of common neighbors of node1 and node2\\\n",
    "    # declare a list to store results\n",
    "    # loop through the neighbors of node1\n",
    "    #   if neighbor is in neighbors of node2\n",
    "    #      add neighbor to result list\n",
    "    # return results\n",
    "\n",
    "\n",
    "# --- Finish this function ---\n",
    "def dispersion(adj_list, node1, node2, threshold = 1, normalized = False): #Calculate the dispersion\n",
    "    result = ______ # FILL IN: initialize dispersion result variable\n",
    "    common_nei = ______ # FILL IN: get common neighbors of node1 and node2 from previous function\n",
    "    \n",
    "    #loop through common neighbors with index i\n",
    "    #   loop through common neighbors with index j\n",
    "    #          result += distance between node1 and node2\n",
    "    \n",
    "    if normalized:\n",
    "        if len(common_nei) <= 1:\n",
    "            return 0\n",
    "        return result/len(common_nei)\n",
    "\n",
    "    # return result"
   ]
  },
  {
   "cell_type": "code",
   "execution_count": 21,
   "metadata": {
    "collapsed": true
   },
   "outputs": [],
   "source": [
    "adj = {}   # Use this adjacency list to test your result\n",
    "adj['a'] = ['b', 'c', 'u']\n",
    "adj['b'] = ['a', 'c', 'd', 'e', 'f', 'u']\n",
    "adj['c'] = ['a', 'b', 'd', 'f', 'h', 'u']\n",
    "adj['d'] = ['c', 'b', 'f', 'u']\n",
    "adj['e'] = ['b', 'f', 'u']\n",
    "adj['f'] = ['c', 'd', 'b', 'e', 'h', 'u']\n",
    "adj['g'] = ['u']\n",
    "adj['h'] = ['c', 'f', 'k', 'j', 'u']\n",
    "adj['i'] = ['k', 'j', 'u']\n",
    "adj['j'] = ['h', 'u', 'k', 'i']\n",
    "adj['k'] = ['i', 'j', 'u']\n",
    "adj['u'] = ['a', 'b', 'c', 'd', 'e', 'f', 'g', 'h', 'i', 'j', 'k']"
   ]
  },
  {
   "cell_type": "code",
   "execution_count": null,
   "metadata": {
    "collapsed": true
   },
   "outputs": [],
   "source": [
    "dispersion(adj, 'h', 'u') #Expect 4"
   ]
  },
  {
   "cell_type": "code",
   "execution_count": null,
   "metadata": {
    "collapsed": true
   },
   "outputs": [],
   "source": [
    "dispersion(adj, 'k', 'j') #Expect 0"
   ]
  },
  {
   "cell_type": "markdown",
   "metadata": {},
   "source": [
    "### Additional Challenge: Calculate Recursive Dispersion\n",
    "\n",
    "In this section you will calculate the maximum dispersion recursively for one of your friends in your network. To do this, fill out the function below. We have provided two helper functions to assist in your calculations."
   ]
  },
  {
   "cell_type": "code",
   "execution_count": null,
   "metadata": {
    "collapsed": true
   },
   "outputs": [],
   "source": [
    "def dispersionEqn(adj_list, u, v, values, iteration_num, threshold):\n",
    "    common_nei = common_neighbor(adj_list, u, v)\n",
    "    if len(common_nei) <= 1:\n",
    "        return 0\n",
    "    \n",
    "    result = 0\n",
    "    for nei in common_nei:\n",
    "        result += values[nei][iteration_num] * values[nei][iteration_num]\n",
    "    \n",
    "    for i in range(len(common_nei) - 1):\n",
    "        for j in range(i + 1, len(common_nei)):\n",
    "            result += 2 * distance(threshold, adj_list, common_nei[i], common_nei[j]) * values[common_nei[i]][iteration_num] * values[common_nei[j]][iteration_num]\n",
    "    \n",
    "    return result/len(common_nei)\n",
    "\n",
    "\n",
    "def find_max_dispersion(dispersions):\n",
    "    result = 0\n",
    "    max_dispersion = 0\n",
    "    for key in dispersions.keys():\n",
    "        if dispersions[key][len(dispersions[key]) - 1] > max_dispersion:\n",
    "            max_dispersion = dispersions[key][len(dispersions[key]) - 1] #compare the last number and find the max\n",
    "            result = key\n",
    "    return result\n",
    "\n",
    "\n",
    "# --- Finish this function ---\n",
    "def recursive_dispersion(adj_list, node, max_iterations = 1, threshold = 1):\n",
    "    disp_values = _____ # declare empty dict. This will hold the dispersion values for \n",
    "                        # each user. You are building these values up one by one\n",
    "    \n",
    "    # Loop through neighbor adjacency list. For any node that is not the target node, add it to our values\n",
    "    # dictionary and set its dispersion value to 1 (for now)\n",
    "    \n",
    "    iteration_num = 0\n",
    "    while iteration_num < max_iterations:\n",
    "        # loop through all neighbors in values (Loop through keys)\n",
    "        #    for each neighbor, calculate the dispersion using the dispersionEqn helper function. \n",
    "        #    Append this dispersion value to the END of the dispersion values dict\n",
    "        # increment number of iterations\n",
    "    \n",
    "    return disp_values"
   ]
  },
  {
   "cell_type": "markdown",
   "metadata": {},
   "source": [
    "Once you have finished the recursive_dispersion method above, try running the following cell with a friend of your choice. Your algorithm should return a different friend which has the highest dispersion value with your input friend. "
   ]
  },
  {
   "cell_type": "code",
   "execution_count": null,
   "metadata": {
    "collapsed": true
   },
   "outputs": [],
   "source": [
    "target_friend = \"Friend Name\"\n",
    "friendIndex = getFriendIndex(target_friend)\n",
    "num_recursions = 3 # This value determines how many recursions our recursive dispersion function will undergo. \n",
    "                   # The paper we read stated that 3 recursions provides a good balance between accuracy and speed\n",
    "\n",
    "threshold = 1 # How many degrees of separation two nodes must be to not be considered neighbors. # Higher threshold\n",
    "              # means you are only looking at nodes where mutual friends are further apart\n",
    "    \n",
    "dispersions = recursive_dispersion(adj_list, friendIndex, num_recursions, threshold)\n",
    "\n",
    "# Final result: The output of this will state which person has the highest dispersion value with the target friend you \n",
    "# selected.\n",
    "nodes[find_max_dispersion(dispersions)]"
   ]
  }
 ],
 "metadata": {
  "kernelspec": {
   "display_name": "Python 3",
   "language": "python",
   "name": "python3"
  },
  "language_info": {
   "codemirror_mode": {
    "name": "ipython",
    "version": 3
   },
   "file_extension": ".py",
   "mimetype": "text/x-python",
   "name": "python",
   "nbconvert_exporter": "python",
   "pygments_lexer": "ipython3",
   "version": "3.6.3"
  }
 },
 "nbformat": 4,
 "nbformat_minor": 2
}
