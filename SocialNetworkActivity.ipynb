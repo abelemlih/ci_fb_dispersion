{
 "cells": [
  {
   "cell_type": "code",
   "execution_count": 138,
   "metadata": {
    "collapsed": true
   },
   "outputs": [],
   "source": [
    "import json\n",
    "from collections import deque"
   ]
  },
  {
   "cell_type": "markdown",
   "metadata": {},
   "source": [
    "# Collect Data"
   ]
  },
  {
   "cell_type": "markdown",
   "metadata": {},
   "source": [
    "Get data from https://lostcircles.com/. Download JSON(no pics) after up finish loading your network. Run the following function to get a adjacency list. One thing about the json file is that some edges only have one directions recorded but we should add both directions to the adj list."
   ]
  },
  {
   "cell_type": "code",
   "execution_count": 139,
   "metadata": {},
   "outputs": [],
   "source": [
    "path = 'fb_network.json'\n",
    "\n",
    "def process_json(path): # Parse the json file into adjacency list and node list\n",
    "    data = json.load(open(path))\n",
    "    links = data[\"links\"]\n",
    "    nodes = data[\"nodes\"]\n",
    "    adj_list = {}\n",
    "    for edge in links:\n",
    "        \n",
    "        if edge[\"source\"] in adj_list:\n",
    "            if edge[\"target\"] not in adj_list[edge[\"source\"]]:\n",
    "                adj_list[edge[\"source\"]].append(edge[\"target\"])\n",
    "        else:\n",
    "            adj_list[edge[\"source\"]] = [edge[\"target\"]]\n",
    "            \n",
    "        \n",
    "        if edge[\"target\"] in adj_list:\n",
    "            if edge[\"source\"] not in adj_list[edge[\"target\"]]:\n",
    "                adj_list[edge[\"target\"]].append(edge[\"source\"])\n",
    "        else:\n",
    "            adj_list[edge[\"target\"]] = [edge[\"source\"]]\n",
    "            \n",
    "    return adj_list, nodes\n",
    "\n",
    "adj_list, nodes = process_json(path)"
   ]
  },
  {
   "cell_type": "markdown",
   "metadata": {},
   "source": [
    "# Tie Strength"
   ]
  },
  {
   "cell_type": "code",
   "execution_count": 140,
   "metadata": {},
   "outputs": [],
   "source": [
    "# c = 0\n",
    "# for i in nodes:\n",
    "#     if i['name'] == 'Andrew Cui':\n",
    "#         print(c)\n",
    "#     c += 1\n",
    "\n",
    "## This code looks for the index of a user's name"
   ]
  },
  {
   "cell_type": "code",
   "execution_count": 141,
   "metadata": {
    "collapsed": true
   },
   "outputs": [],
   "source": [
    "def common_neighbor(adj_list, node1, node2):  #Find the list of common neighbors of node1 and node2\n",
    "    result = []\n",
    "    for nei in adj_list[node1]:\n",
    "        if nei in adj_list[node2]:\n",
    "            result.append(nei)\n",
    "    return result\n",
    "\n",
    "\n",
    "def dispersion(adj_list, node1, node2, threshold = 1, normalized = False): #Calculate the dispersion\n",
    "    common_nei = common_neighbor(adj_list, node1, node2)\n",
    "    result = 0\n",
    "    for i in range(len(common_nei) - 1):\n",
    "        for j in range(i + 1, len(common_nei)):\n",
    "            result += distance(threshold, adj_list, common_nei[i], common_nei[j])\n",
    "\n",
    "    if normalized:\n",
    "        if len(common_nei) <= 1:\n",
    "            return 0\n",
    "        return result/len(common_nei)\n",
    "\n",
    "    return result\n",
    "\n",
    "def distance(threshold, adj_list, u, v): \n",
    "    # Use BFS to check if distance between u and v are within threshold, return 1 when dist > threshold, 0 when <=\n",
    "    queue = deque([u]) # Queue data structure\n",
    "    explored = {u} # Set data structure for O(1) lookup\n",
    "    count = 0\n",
    "    while(len(queue) != 0 and count < threshold):\n",
    "        cur_layer = len(queue)\n",
    "        \n",
    "        for i in range(cur_layer):\n",
    "            cur = queue.popleft()\n",
    "            for nei in adj_list[cur]:\n",
    "                if nei == v:\n",
    "                    return 0\n",
    "                if nei not in explored:\n",
    "                    queue.append(nei)\n",
    "                    explored.add(nei)\n",
    "                    \n",
    "        count += 1\n",
    "    return 1"
   ]
  },
  {
   "cell_type": "code",
   "execution_count": 142,
   "metadata": {
    "collapsed": true
   },
   "outputs": [],
   "source": [
    "adj = {}   # This is the graph in the slide, used for testing\n",
    "adj['a'] = ['b', 'c', 'u']\n",
    "adj['b'] = ['a', 'c', 'd', 'e', 'f', 'u']\n",
    "adj['c'] = ['a', 'b', 'd', 'f', 'h', 'u']\n",
    "adj['d'] = ['c', 'd', 'f', 'u']\n",
    "adj['e'] = ['b', 'f', 'u']\n",
    "adj['f'] = ['c', 'd', 'b', 'e', 'h', 'u']\n",
    "adj['g'] = ['u']\n",
    "adj['h'] = ['c', 'f', 'k', 'j', 'u']\n",
    "adj['i'] = ['k', 'j', 'u']\n",
    "adj['j'] = ['h', 'u', 'k', 'i']\n",
    "adj['k'] = ['i', 'j', 'u']\n",
    "adj['u'] = ['a', 'b', 'c', 'd', 'e', 'f', 'g', 'h', 'i', 'j', 'k']"
   ]
  },
  {
   "cell_type": "code",
   "execution_count": 143,
   "metadata": {},
   "outputs": [
    {
     "data": {
      "text/plain": [
       "0"
      ]
     },
     "execution_count": 143,
     "metadata": {},
     "output_type": "execute_result"
    }
   ],
   "source": [
    "distance(1, adj, 'a', 'b')"
   ]
  },
  {
   "cell_type": "code",
   "execution_count": 144,
   "metadata": {},
   "outputs": [
    {
     "data": {
      "text/plain": [
       "4"
      ]
     },
     "execution_count": 144,
     "metadata": {},
     "output_type": "execute_result"
    }
   ],
   "source": [
    "dispersion(adj, 'h', 'u')"
   ]
  },
  {
   "cell_type": "code",
   "execution_count": 145,
   "metadata": {},
   "outputs": [
    {
     "data": {
      "text/plain": [
       "1.0"
      ]
     },
     "execution_count": 145,
     "metadata": {},
     "output_type": "execute_result"
    }
   ],
   "source": [
    "dispersion(adj, 'h', 'u', 1, True)"
   ]
  },
  {
   "cell_type": "code",
   "execution_count": 146,
   "metadata": {},
   "outputs": [
    {
     "data": {
      "text/plain": [
       "{'dataUrl': '',\n",
       " 'id': '100009517843209',\n",
       " 'name': 'Andrew Cui',\n",
       " 'profile': 'https://www.facebook.com/andrew.cui.75?fref=pb&hc_location=friends_tab',\n",
       " 'userName': 'andrew.cui.75'}"
      ]
     },
     "execution_count": 146,
     "metadata": {},
     "output_type": "execute_result"
    }
   ],
   "source": [
    "nodes[11]"
   ]
  },
  {
   "cell_type": "code",
   "execution_count": 147,
   "metadata": {},
   "outputs": [
    {
     "data": {
      "text/plain": [
       "{'dataUrl': '',\n",
       " 'id': '100004068944907',\n",
       " 'name': 'Ayoub Belemlih',\n",
       " 'profile': 'https://www.facebook.com/belemlih.ayoub?fref=pb&hc_location=friends_tab',\n",
       " 'userName': 'belemlih.ayoub'}"
      ]
     },
     "execution_count": 147,
     "metadata": {},
     "output_type": "execute_result"
    }
   ],
   "source": [
    "nodes[30]"
   ]
  },
  {
   "cell_type": "code",
   "execution_count": 148,
   "metadata": {},
   "outputs": [
    {
     "data": {
      "text/plain": [
       "155"
      ]
     },
     "execution_count": 148,
     "metadata": {},
     "output_type": "execute_result"
    }
   ],
   "source": [
    "dispersion(adj_list, 11, 30)"
   ]
  },
  {
   "cell_type": "code",
   "execution_count": 149,
   "metadata": {},
   "outputs": [],
   "source": [
    "def recursive_dispersion(adj_list, node, max_iterations = 1, threshold = 1):\n",
    "    values = {}  # dictionary with [nodeX : [dispersion1, dispersion2...]] pairs\n",
    "    for nei in adj_list.keys():   # Initialize all the dispersion values to be 1\n",
    "        if nei != node:\n",
    "            values[nei] = [1]\n",
    "    \n",
    "    iteration_num = 0\n",
    "    while iteration_num < max_iterations:\n",
    "        for nei in values.keys():\n",
    "            values[nei].append(helper(adj_list, node, nei, values, iteration_num, threshold))\n",
    "        iteration_num += 1\n",
    "        \n",
    "    return values\n",
    "\n",
    "\n",
    "def helper(adj_list, u, v, values, iteration_num, threshold):\n",
    "    common_nei = common_neighbor(adj_list, u, v)\n",
    "    if len(common_nei) <= 1:\n",
    "        return 0\n",
    "    \n",
    "    result = 0\n",
    "    for nei in common_nei:\n",
    "        result += values[nei][iteration_num] * values[nei][iteration_num]\n",
    "    \n",
    "    for i in range(len(common_nei) - 1):\n",
    "        for j in range(i + 1, len(common_nei)):\n",
    "            result += 2 * distance(threshold, adj_list, common_nei[i], common_nei[j]) * values[common_nei[i]][iteration_num] * values[common_nei[j]][iteration_num]\n",
    "    \n",
    "    return result/len(common_nei)"
   ]
  },
  {
   "cell_type": "code",
   "execution_count": 150,
   "metadata": {},
   "outputs": [],
   "source": [
    "dispersions = recursive_dispersion(adj_list, 11, 3, 1)"
   ]
  },
  {
   "cell_type": "code",
   "execution_count": 151,
   "metadata": {
    "collapsed": true
   },
   "outputs": [],
   "source": [
    "def find_max_dispersion(dispersions):\n",
    "    result = 0\n",
    "    max_dispersion = 0\n",
    "    for key in dispersions.keys():\n",
    "        if dispersions[key][len(dispersions[key]) - 1] > max_dispersion:\n",
    "            max_dispersion = dispersions[key][len(dispersions[key]) - 1] #compare the last number and find the max\n",
    "            result = key\n",
    "    return result"
   ]
  },
  {
   "cell_type": "code",
   "execution_count": 152,
   "metadata": {},
   "outputs": [
    {
     "data": {
      "text/plain": [
       "45"
      ]
     },
     "execution_count": 152,
     "metadata": {},
     "output_type": "execute_result"
    }
   ],
   "source": [
    "find_max_dispersion(dispersions)"
   ]
  },
  {
   "cell_type": "code",
   "execution_count": 153,
   "metadata": {},
   "outputs": [
    {
     "data": {
      "text/plain": [
       "{'dataUrl': '',\n",
       " 'id': '100001107732647',\n",
       " 'name': 'Jongwon Han',\n",
       " 'profile': 'https://www.facebook.com/hans.jongwon?fref=pb&hc_location=friends_tab',\n",
       " 'userName': 'hans.jongwon'}"
      ]
     },
     "execution_count": 153,
     "metadata": {},
     "output_type": "execute_result"
    }
   ],
   "source": [
    "nodes[45]"
   ]
  }
 ],
 "metadata": {
  "kernelspec": {
   "display_name": "Python 3",
   "language": "python",
   "name": "python3"
  },
  "language_info": {
   "codemirror_mode": {
    "name": "ipython",
    "version": 3.0
   },
   "file_extension": ".py",
   "mimetype": "text/x-python",
   "name": "python",
   "nbconvert_exporter": "python",
   "pygments_lexer": "ipython3",
   "version": "3.6.3"
  }
 },
 "nbformat": 4,
 "nbformat_minor": 0
}